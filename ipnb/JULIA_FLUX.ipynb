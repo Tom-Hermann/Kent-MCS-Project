{
  "nbformat": 4,
  "nbformat_minor": 0,
  "metadata": {
    "colab": {
      "provenance": [],
      "gpuType": "T4"
    },
    "kernelspec": {
      "name": "julia",
      "display_name": "julia 1.8.3"
    },
    "accelerator": "GPU"
  },
  "cells": [
    {
      "cell_type": "code",
      "execution_count": null,
      "metadata": {
        "colab": {
          "base_uri": "https://localhost:8080/"
        },
        "id": "luafs0iXYb7Q",
        "outputId": "8d0f0574-ca4a-4ca3-a6df-14702966bfcb"
      },
      "outputs": [
        {
          "output_type": "stream",
          "name": "stdout",
          "text": [
            "Installing Julia 1.8.3 on the current Colab Runtime...\n",
            "2023-08-23 22:25:41 URL:https://storage.googleapis.com/julialang2/bin/linux/x64/1.8/julia-1.8.3-linux-x86_64.tar.gz [130030846/130030846] -> \"/tmp/julia.tar.gz\" [1]\n",
            "Installing Julia package IJulia...\n",
            "Installing Julia package CUDA...\n",
            "Installing IJulia kernel...\n",
            "\u001b[36m\u001b[1m[ \u001b[22m\u001b[39m\u001b[36m\u001b[1mInfo: \u001b[22m\u001b[39mInstalling julia kernelspec in /root/.local/share/jupyter/kernels/julia-1.8\n",
            "\n",
            "Successfully installed julia version 1.8.3!\n",
            "Please reload this page (press Ctrl+R, ⌘+R, or the F5 key) then\n",
            "jump to the 'Checking the Installation' section.\n"
          ]
        },
        {
          "output_type": "execute_result",
          "data": {
            "text/plain": []
          },
          "metadata": {},
          "execution_count": 1
        }
      ],
      "source": [
        "# script source --> https://colab.research.google.com/github/ageron/julia_notebooks/blob/master/Julia_Colab_Notebook_Template.ipynb\n",
        "\n",
        "%%shell\n",
        "set -e\n",
        "\n",
        "#---------------------------------------------------#\n",
        "JULIA_VERSION=\"1.8.3\" # any version ≥ 0.7.0\n",
        "JULIA_PACKAGES=\"IJulia\"\n",
        "JULIA_PACKAGES_IF_GPU=\"CUDA\" # or CuArrays for older Julia versions\n",
        "JULIA_NUM_THREADS=2\n",
        "#---------------------------------------------------#\n",
        "\n",
        "if [ -z `which julia` ]; then\n",
        "  # Install Julia\n",
        "  JULIA_VER=`cut -d '.' -f -2 <<< \"$JULIA_VERSION\"`\n",
        "  echo \"Installing Julia $JULIA_VERSION on the current Colab Runtime...\"\n",
        "  BASE_URL=\"https://julialang-s3.julialang.org/bin/linux/x64\"\n",
        "  URL=\"$BASE_URL/$JULIA_VER/julia-$JULIA_VERSION-linux-x86_64.tar.gz\"\n",
        "  wget -nv $URL -O /tmp/julia.tar.gz # -nv means \"not verbose\"\n",
        "  tar -x -f /tmp/julia.tar.gz -C /usr/local --strip-components 1\n",
        "  rm /tmp/julia.tar.gz\n",
        "\n",
        "  # Install Packages\n",
        "  nvidia-smi -L &> /dev/null && export GPU=1 || export GPU=0\n",
        "  if [ $GPU -eq 1 ]; then\n",
        "    JULIA_PACKAGES=\"$JULIA_PACKAGES $JULIA_PACKAGES_IF_GPU\"\n",
        "  fi\n",
        "  for PKG in `echo $JULIA_PACKAGES`; do\n",
        "    echo \"Installing Julia package $PKG...\"\n",
        "    julia -e 'using Pkg; pkg\"add '$PKG'; precompile;\"' &> /dev/null\n",
        "  done\n",
        "\n",
        "  # Install kernel and rename it to \"julia\"\n",
        "  echo \"Installing IJulia kernel...\"\n",
        "  julia -e 'using IJulia; IJulia.installkernel(\"julia\", env=Dict(\n",
        "      \"JULIA_NUM_THREADS\"=>\"'\"$JULIA_NUM_THREADS\"'\"))'\n",
        "  KERNEL_DIR=`julia -e \"using IJulia; print(IJulia.kerneldir())\"`\n",
        "  KERNEL_NAME=`ls -d \"$KERNEL_DIR\"/julia*`\n",
        "  mv -f $KERNEL_NAME \"$KERNEL_DIR\"/julia\n",
        "\n",
        "  echo ''\n",
        "  echo \"Successfully installed `julia -v`!\"\n",
        "  echo \"Please reload this page (press Ctrl+R, ⌘+R, or the F5 key) then\"\n",
        "  echo \"jump to the 'Checking the Installation' section.\"\n",
        "fi"
      ]
    },
    {
      "cell_type": "code",
      "source": [
        "versioninfo()"
      ],
      "metadata": {
        "colab": {
          "base_uri": "https://localhost:8080/"
        },
        "id": "4ZIV_qzP3EAD",
        "outputId": "23b5ab95-b31d-443e-bbb6-17efe4cc22e9"
      },
      "execution_count": null,
      "outputs": [
        {
          "output_type": "stream",
          "name": "stdout",
          "text": [
            "Julia Version 1.8.3\n",
            "Commit 0434deb161e (2022-11-14 20:14 UTC)\n",
            "Platform Info:\n",
            "  OS: Linux (x86_64-linux-gnu)\n",
            "  CPU: 2 × Intel(R) Xeon(R) CPU @ 2.20GHz\n",
            "  WORD_SIZE: 64\n",
            "  LIBM: libopenlibm\n",
            "  LLVM: libLLVM-13.0.1 (ORCJIT, broadwell)\n",
            "  Threads: 2 on 2 virtual cores\n",
            "Environment:\n",
            "  LD_LIBRARY_PATH = /usr/local/nvidia/lib:/usr/local/nvidia/lib64\n",
            "  JULIA_NUM_THREADS = 2\n"
          ]
        }
      ]
    },
    {
      "cell_type": "code",
      "source": [
        "using Pkg\n",
        "Pkg.add([\"Flux\", \"MLDatasets\", \"JSON\", \"CUDA\", \"Statistics\"])"
      ],
      "metadata": {
        "id": "hOPtH42tYgKg",
        "colab": {
          "base_uri": "https://localhost:8080/"
        },
        "outputId": "429ed846-ae29-4952-c2cb-d9ee845e071b"
      },
      "execution_count": 1,
      "outputs": [
        {
          "output_type": "stream",
          "name": "stderr",
          "text": [
            "\u001b[32m\u001b[1m    Updating\u001b[22m\u001b[39m registry at `~/.julia/registries/General.toml`\n",
            "\u001b[32m\u001b[1m   Resolving\u001b[22m\u001b[39m package versions...\n",
            "\u001b[32m\u001b[1m   Installed\u001b[22m\u001b[39m OffsetArrays ──────────────── v1.12.10\n",
            "\u001b[32m\u001b[1m   Installed\u001b[22m\u001b[39m cuDNN ─────────────────────── v1.1.0\n",
            "\u001b[32m\u001b[1m   Installed\u001b[22m\u001b[39m ContextVariablesX ─────────── v0.1.3\n",
            "\u001b[32m\u001b[1m   Installed\u001b[22m\u001b[39m ShowCases ─────────────────── v0.1.0\n",
            "\u001b[32m\u001b[1m   Installed\u001b[22m\u001b[39m LoggingExtras ─────────────── v1.0.1\n",
            "\u001b[32m\u001b[1m   Installed\u001b[22m\u001b[39m NNlibCUDA ─────────────────── v0.2.7\n",
            "\u001b[32m\u001b[1m   Installed\u001b[22m\u001b[39m Unitful ───────────────────── v1.16.3\n",
            "\u001b[32m\u001b[1m   Installed\u001b[22m\u001b[39m ZipFile ───────────────────── v0.10.1\n",
            "\u001b[32m\u001b[1m   Installed\u001b[22m\u001b[39m ConcurrentUtilities ───────── v2.2.1\n",
            "\u001b[32m\u001b[1m   Installed\u001b[22m\u001b[39m InlineStrings ─────────────── v1.4.0\n",
            "\u001b[32m\u001b[1m   Installed\u001b[22m\u001b[39m Optimisers ────────────────── v0.2.20\n",
            "\u001b[32m\u001b[1m   Installed\u001b[22m\u001b[39m NNlib ─────────────────────── v0.8.21\n",
            "\u001b[32m\u001b[1m   Installed\u001b[22m\u001b[39m InitialValues ─────────────── v0.3.1\n",
            "\u001b[32m\u001b[1m   Installed\u001b[22m\u001b[39m FileIO ────────────────────── v1.16.1\n",
            "\u001b[32m\u001b[1m   Installed\u001b[22m\u001b[39m OpenSSL ───────────────────── v1.4.1\n",
            "\u001b[32m\u001b[1m   Installed\u001b[22m\u001b[39m InvertedIndices ───────────── v1.3.0\n",
            "\u001b[32m\u001b[1m   Installed\u001b[22m\u001b[39m PrettyPrint ───────────────── v0.2.0\n",
            "\u001b[32m\u001b[1m   Installed\u001b[22m\u001b[39m ZygoteRules ───────────────── v0.2.3\n",
            "\u001b[32m\u001b[1m   Installed\u001b[22m\u001b[39m HTTP ──────────────────────── v1.9.14\n",
            "\u001b[32m\u001b[1m   Installed\u001b[22m\u001b[39m MAT ───────────────────────── v0.10.5\n",
            "\u001b[32m\u001b[1m   Installed\u001b[22m\u001b[39m DataFrames ────────────────── v1.6.1\n",
            "\u001b[32m\u001b[1m   Installed\u001b[22m\u001b[39m MLUtils ───────────────────── v0.4.3\n",
            "\u001b[32m\u001b[1m   Installed\u001b[22m\u001b[39m Missings ──────────────────── v1.1.0\n",
            "\u001b[32m\u001b[1m   Installed\u001b[22m\u001b[39m TupleTools ────────────────── v1.3.0\n",
            "\u001b[32m\u001b[1m   Installed\u001b[22m\u001b[39m RealDot ───────────────────── v0.1.0\n",
            "\u001b[32m\u001b[1m   Installed\u001b[22m\u001b[39m JLD2 ──────────────────────── v0.4.33\n",
            "\u001b[32m\u001b[1m   Installed\u001b[22m\u001b[39m IRTools ───────────────────── v0.4.10\n",
            "\u001b[32m\u001b[1m   Installed\u001b[22m\u001b[39m Functors ──────────────────── v0.4.5\n",
            "\u001b[32m\u001b[1m   Installed\u001b[22m\u001b[39m Chemfiles ─────────────────── v0.10.41\n",
            "\u001b[32m\u001b[1m   Installed\u001b[22m\u001b[39m ColorSchemes ──────────────── v3.23.0\n",
            "\u001b[32m\u001b[1m   Installed\u001b[22m\u001b[39m SimpleBufferStream ────────── v1.1.0\n",
            "\u001b[32m\u001b[1m   Installed\u001b[22m\u001b[39m FLoopsBase ────────────────── v0.1.1\n",
            "\u001b[32m\u001b[1m   Installed\u001b[22m\u001b[39m MicrosoftMPI_jll ──────────── v10.1.3+4\n",
            "\u001b[32m\u001b[1m   Installed\u001b[22m\u001b[39m GZip ──────────────────────── v0.5.2\n",
            "\u001b[32m\u001b[1m   Installed\u001b[22m\u001b[39m SentinelArrays ────────────── v1.4.0\n",
            "\u001b[32m\u001b[1m   Installed\u001b[22m\u001b[39m ProgressLogging ───────────── v0.1.4\n",
            "\u001b[32m\u001b[1m   Installed\u001b[22m\u001b[39m AtomsBase ─────────────────── v0.3.4\n",
            "\u001b[32m\u001b[1m   Installed\u001b[22m\u001b[39m StringEncodings ───────────── v0.3.7\n",
            "\u001b[32m\u001b[1m   Installed\u001b[22m\u001b[39m DefineSingletons ──────────── v0.1.2\n",
            "\u001b[32m\u001b[1m   Installed\u001b[22m\u001b[39m NaNMath ───────────────────── v1.0.2\n",
            "\u001b[32m\u001b[1m   Installed\u001b[22m\u001b[39m WorkerUtilities ───────────── v1.6.1\n",
            "\u001b[32m\u001b[1m   Installed\u001b[22m\u001b[39m MicroCollections ──────────── v0.1.4\n",
            "\u001b[32m\u001b[1m   Installed\u001b[22m\u001b[39m NameResolution ────────────── v0.1.5\n",
            "\u001b[32m\u001b[1m   Installed\u001b[22m\u001b[39m OneHotArrays ──────────────── v0.2.4\n",
            "\u001b[32m\u001b[1m   Installed\u001b[22m\u001b[39m Zygote ────────────────────── v0.6.63\n",
            "\u001b[32m\u001b[1m   Installed\u001b[22m\u001b[39m MPIPreferences ────────────── v0.1.9\n",
            "\u001b[32m\u001b[1m   Installed\u001b[22m\u001b[39m WeakRefStrings ────────────── v1.4.2\n",
            "\u001b[32m\u001b[1m   Installed\u001b[22m\u001b[39m TranscodingStreams ────────── v0.9.13\n",
            "\u001b[32m\u001b[1m   Installed\u001b[22m\u001b[39m CommonSubexpressions ──────── v0.3.0\n",
            "\u001b[32m\u001b[1m   Installed\u001b[22m\u001b[39m MappedArrays ──────────────── v0.4.2\n",
            "\u001b[32m\u001b[1m   Installed\u001b[22m\u001b[39m Colors ────────────────────── v0.12.10\n",
            "\u001b[32m\u001b[1m   Installed\u001b[22m\u001b[39m DataStructures ────────────── v0.18.15\n",
            "\u001b[32m\u001b[1m   Installed\u001b[22m\u001b[39m ChainRules ────────────────── v1.53.0\n",
            "\u001b[32m\u001b[1m   Installed\u001b[22m\u001b[39m PaddedViews ───────────────── v0.5.12\n",
            "\u001b[32m\u001b[1m   Installed\u001b[22m\u001b[39m BufferedStreams ───────────── v1.2.1\n",
            "\u001b[32m\u001b[1m   Installed\u001b[22m\u001b[39m HDF5_jll ──────────────────── v1.14.1+0\n",
            "\u001b[32m\u001b[1m   Installed\u001b[22m\u001b[39m StatsAPI ──────────────────── v1.6.0\n",
            "\u001b[32m\u001b[1m   Installed\u001b[22m\u001b[39m Glob ──────────────────────── v1.3.1\n",
            "\u001b[32m\u001b[1m   Installed\u001b[22m\u001b[39m BangBang ──────────────────── v0.3.39\n",
            "\u001b[32m\u001b[1m   Installed\u001b[22m\u001b[39m FLoops ────────────────────── v0.2.1\n",
            "\u001b[32m\u001b[1m   Installed\u001b[22m\u001b[39m MLStyle ───────────────────── v0.4.17\n",
            "\u001b[32m\u001b[1m   Installed\u001b[22m\u001b[39m CodecZlib ─────────────────── v0.7.2\n",
            "\u001b[32m\u001b[1m   Installed\u001b[22m\u001b[39m PeriodicTable ─────────────── v1.1.4\n",
            "\u001b[32m\u001b[1m   Installed\u001b[22m\u001b[39m MosaicViews ───────────────── v0.3.4\n",
            "\u001b[32m\u001b[1m   Installed\u001b[22m\u001b[39m LazyModules ───────────────── v0.3.1\n",
            "\u001b[32m\u001b[1m   Installed\u001b[22m\u001b[39m ExceptionUnwrapping ───────── v0.1.9\n",
            "\u001b[32m\u001b[1m   Installed\u001b[22m\u001b[39m StructTypes ───────────────── v1.10.0\n",
            "\u001b[32m\u001b[1m   Installed\u001b[22m\u001b[39m StatsBase ─────────────────── v0.34.0\n",
            "\u001b[32m\u001b[1m   Installed\u001b[22m\u001b[39m ImageCore ─────────────────── v0.10.1\n",
            "\u001b[32m\u001b[1m   Installed\u001b[22m\u001b[39m MPICH_jll ─────────────────── v4.1.2+0\n",
            "\u001b[32m\u001b[1m   Installed\u001b[22m\u001b[39m ArgCheck ──────────────────── v2.3.0\n",
            "\u001b[32m\u001b[1m   Installed\u001b[22m\u001b[39m ColorTypes ────────────────── v0.11.4\n",
            "\u001b[32m\u001b[1m   Installed\u001b[22m\u001b[39m DiffRules ─────────────────── v1.15.1\n",
            "\u001b[32m\u001b[1m   Installed\u001b[22m\u001b[39m JSON3 ─────────────────────── v1.13.2\n",
            "\u001b[32m\u001b[1m   Installed\u001b[22m\u001b[39m TensorCore ────────────────── v0.1.1\n",
            "\u001b[32m\u001b[1m   Installed\u001b[22m\u001b[39m PrettyTables ──────────────── v2.2.7\n",
            "\u001b[32m\u001b[1m   Installed\u001b[22m\u001b[39m Flux ──────────────────────── v0.13.17\n",
            "\u001b[32m\u001b[1m   Installed\u001b[22m\u001b[39m ImageShow ─────────────────── v0.3.8\n",
            "\u001b[32m\u001b[1m   Installed\u001b[22m\u001b[39m TableTraits ───────────────── v1.0.1\n",
            "\u001b[32m\u001b[1m   Installed\u001b[22m\u001b[39m DiffResults ───────────────── v1.1.0\n",
            "\u001b[32m\u001b[1m   Installed\u001b[22m\u001b[39m OpenMPI_jll ───────────────── v4.1.5+0\n",
            "\u001b[32m\u001b[1m   Installed\u001b[22m\u001b[39m PooledArrays ──────────────── v1.4.2\n",
            "\u001b[32m\u001b[1m   Installed\u001b[22m\u001b[39m Setfield ──────────────────── v1.1.1\n",
            "\u001b[32m\u001b[1m   Installed\u001b[22m\u001b[39m DataDeps ──────────────────── v0.7.11\n",
            "\u001b[32m\u001b[1m   Installed\u001b[22m\u001b[39m DataValueInterfaces ───────── v1.0.0\n",
            "\u001b[32m\u001b[1m   Installed\u001b[22m\u001b[39m ColorVectorSpace ──────────── v0.10.0\n",
            "\u001b[32m\u001b[1m   Installed\u001b[22m\u001b[39m ConstructionBase ──────────── v1.5.3\n",
            "\u001b[32m\u001b[1m   Installed\u001b[22m\u001b[39m StackViews ────────────────── v0.1.1\n",
            "\u001b[32m\u001b[1m   Installed\u001b[22m\u001b[39m OrderedCollections ────────── v1.6.2\n",
            "\u001b[32m\u001b[1m   Installed\u001b[22m\u001b[39m Strided ───────────────────── v1.2.3\n",
            "\u001b[32m\u001b[1m   Installed\u001b[22m\u001b[39m HDF5 ──────────────────────── v0.16.16\n",
            "\u001b[32m\u001b[1m   Installed\u001b[22m\u001b[39m CSV ───────────────────────── v0.10.11\n",
            "\u001b[32m\u001b[1m   Installed\u001b[22m\u001b[39m SimpleTraits ──────────────── v0.9.4\n",
            "\u001b[32m\u001b[1m   Installed\u001b[22m\u001b[39m libaec_jll ────────────────── v1.0.6+1\n",
            "\u001b[32m\u001b[1m   Installed\u001b[22m\u001b[39m CompositionsBase ──────────── v0.1.2\n",
            "\u001b[32m\u001b[1m   Installed\u001b[22m\u001b[39m Crayons ───────────────────── v4.1.1\n",
            "\u001b[32m\u001b[1m   Installed\u001b[22m\u001b[39m JuliaVariables ────────────── v0.2.4\n",
            "\u001b[32m\u001b[1m   Installed\u001b[22m\u001b[39m Transducers ───────────────── v0.4.78\n",
            "\u001b[32m\u001b[1m   Installed\u001b[22m\u001b[39m MLDatasets ────────────────── v0.7.12\n",
            "\u001b[32m\u001b[1m   Installed\u001b[22m\u001b[39m ImageBase ─────────────────── v0.1.7\n",
            "\u001b[32m\u001b[1m   Installed\u001b[22m\u001b[39m InternedStrings ───────────── v0.7.0\n",
            "\u001b[32m\u001b[1m   Installed\u001b[22m\u001b[39m OpenSSL_jll ───────────────── v3.0.10+0\n",
            "\u001b[32m\u001b[1m   Installed\u001b[22m\u001b[39m Chemfiles_jll ─────────────── v0.10.4+0\n",
            "\u001b[32m\u001b[1m   Installed\u001b[22m\u001b[39m BitFlags ──────────────────── v0.1.7\n",
            "\u001b[32m\u001b[1m   Installed\u001b[22m\u001b[39m NPZ ───────────────────────── v0.4.3\n",
            "\u001b[32m\u001b[1m   Installed\u001b[22m\u001b[39m DataAPI ───────────────────── v1.15.0\n",
            "\u001b[32m\u001b[1m   Installed\u001b[22m\u001b[39m Tables ────────────────────── v1.10.1\n",
            "\u001b[32m\u001b[1m   Installed\u001b[22m\u001b[39m LLVMOpenMP_jll ────────────── v15.0.4+0\n",
            "\u001b[32m\u001b[1m   Installed\u001b[22m\u001b[39m FixedPointNumbers ─────────── v0.8.4\n",
            "\u001b[32m\u001b[1m   Installed\u001b[22m\u001b[39m Baselet ───────────────────── v0.1.1\n",
            "\u001b[32m\u001b[1m   Installed\u001b[22m\u001b[39m Libiconv_jll ──────────────── v1.16.1+2\n",
            "\u001b[32m\u001b[1m   Installed\u001b[22m\u001b[39m IteratorInterfaceExtensions ─ v1.0.0\n",
            "\u001b[32m\u001b[1m   Installed\u001b[22m\u001b[39m LaTeXStrings ──────────────── v1.3.0\n",
            "\u001b[32m\u001b[1m   Installed\u001b[22m\u001b[39m StructArrays ──────────────── v0.6.15\n",
            "\u001b[32m\u001b[1m   Installed\u001b[22m\u001b[39m URIs ──────────────────────── v1.5.0\n",
            "\u001b[32m\u001b[1m   Installed\u001b[22m\u001b[39m FilePathsBase ─────────────── v0.9.20\n",
            "\u001b[32m\u001b[1m   Installed\u001b[22m\u001b[39m MPItrampoline_jll ─────────── v5.3.1+0\n",
            "\u001b[32m\u001b[1m   Installed\u001b[22m\u001b[39m UnitfulAtomic ─────────────── v1.0.0\n",
            "\u001b[32m\u001b[1m   Installed\u001b[22m\u001b[39m CUDNN_jll ─────────────────── v8.9.4+0\n",
            "\u001b[32m\u001b[1m   Installed\u001b[22m\u001b[39m SortingAlgorithms ─────────── v1.1.1\n",
            "\u001b[32m\u001b[1m   Installed\u001b[22m\u001b[39m SplittablesBase ───────────── v0.1.15\n",
            "\u001b[32m\u001b[1m   Installed\u001b[22m\u001b[39m FillArrays ────────────────── v1.6.0\n",
            "\u001b[32m\u001b[1m   Installed\u001b[22m\u001b[39m ForwardDiff ───────────────── v0.10.36\n",
            "\u001b[32m\u001b[1m   Installed\u001b[22m\u001b[39m StringManipulation ────────── v0.3.0\n",
            "\u001b[32m\u001b[1m   Installed\u001b[22m\u001b[39m Pickle ────────────────────── v0.3.3\n",
            "\u001b[32m\u001b[1m    Updating\u001b[22m\u001b[39m `~/.julia/environments/v1.8/Project.toml`\n",
            "\u001b[33m⌅\u001b[39m\u001b[90m [587475ba] \u001b[39m\u001b[92m+ Flux v0.13.17\u001b[39m\n",
            " \u001b[90m [682c06a0] \u001b[39m\u001b[92m+ JSON v0.21.4\u001b[39m\n",
            " \u001b[90m [eb30cadb] \u001b[39m\u001b[92m+ MLDatasets v0.7.12\u001b[39m\n",
            " \u001b[90m [10745b16] \u001b[39m\u001b[92m+ Statistics\u001b[39m\n",
            "\u001b[32m\u001b[1m    Updating\u001b[22m\u001b[39m `~/.julia/environments/v1.8/Manifest.toml`\n",
            " \u001b[90m [dce04be8] \u001b[39m\u001b[92m+ ArgCheck v2.3.0\u001b[39m\n",
            " \u001b[90m [a963bdd2] \u001b[39m\u001b[92m+ AtomsBase v0.3.4\u001b[39m\n",
            " \u001b[90m [198e06fe] \u001b[39m\u001b[92m+ BangBang v0.3.39\u001b[39m\n",
            " \u001b[90m [9718e550] \u001b[39m\u001b[92m+ Baselet v0.1.1\u001b[39m\n",
            " \u001b[90m [d1d4a3ce] \u001b[39m\u001b[92m+ BitFlags v0.1.7\u001b[39m\n",
            " \u001b[90m [e1450e63] \u001b[39m\u001b[92m+ BufferedStreams v1.2.1\u001b[39m\n",
            " \u001b[90m [336ed68f] \u001b[39m\u001b[92m+ CSV v0.10.11\u001b[39m\n",
            " \u001b[90m [082447d4] \u001b[39m\u001b[92m+ ChainRules v1.53.0\u001b[39m\n",
            " \u001b[90m [46823bd8] \u001b[39m\u001b[92m+ Chemfiles v0.10.41\u001b[39m\n",
            " \u001b[90m [944b1d66] \u001b[39m\u001b[92m+ CodecZlib v0.7.2\u001b[39m\n",
            " \u001b[90m [35d6a980] \u001b[39m\u001b[92m+ ColorSchemes v3.23.0\u001b[39m\n",
            " \u001b[90m [3da002f7] \u001b[39m\u001b[92m+ ColorTypes v0.11.4\u001b[39m\n",
            " \u001b[90m [c3611d14] \u001b[39m\u001b[92m+ ColorVectorSpace v0.10.0\u001b[39m\n",
            " \u001b[90m [5ae59095] \u001b[39m\u001b[92m+ Colors v0.12.10\u001b[39m\n",
            " \u001b[90m [bbf7d656] \u001b[39m\u001b[92m+ CommonSubexpressions v0.3.0\u001b[39m\n",
            " \u001b[90m [a33af91c] \u001b[39m\u001b[92m+ CompositionsBase v0.1.2\u001b[39m\n",
            " \u001b[90m [f0e56b4a] \u001b[39m\u001b[92m+ ConcurrentUtilities v2.2.1\u001b[39m\n",
            " \u001b[90m [187b0558] \u001b[39m\u001b[92m+ ConstructionBase v1.5.3\u001b[39m\n",
            " \u001b[90m [6add18c4] \u001b[39m\u001b[92m+ ContextVariablesX v0.1.3\u001b[39m\n",
            " \u001b[90m [a8cc5b0e] \u001b[39m\u001b[92m+ Crayons v4.1.1\u001b[39m\n",
            " \u001b[90m [9a962f9c] \u001b[39m\u001b[92m+ DataAPI v1.15.0\u001b[39m\n",
            " \u001b[90m [124859b0] \u001b[39m\u001b[92m+ DataDeps v0.7.11\u001b[39m\n",
            " \u001b[90m [a93c6f00] \u001b[39m\u001b[92m+ DataFrames v1.6.1\u001b[39m\n",
            " \u001b[90m [864edb3b] \u001b[39m\u001b[92m+ DataStructures v0.18.15\u001b[39m\n",
            " \u001b[90m [e2d170a0] \u001b[39m\u001b[92m+ DataValueInterfaces v1.0.0\u001b[39m\n",
            " \u001b[90m [244e2a9f] \u001b[39m\u001b[92m+ DefineSingletons v0.1.2\u001b[39m\n",
            " \u001b[90m [163ba53b] \u001b[39m\u001b[92m+ DiffResults v1.1.0\u001b[39m\n",
            " \u001b[90m [b552c78f] \u001b[39m\u001b[92m+ DiffRules v1.15.1\u001b[39m\n",
            " \u001b[90m [460bff9d] \u001b[39m\u001b[92m+ ExceptionUnwrapping v0.1.9\u001b[39m\n",
            " \u001b[90m [cc61a311] \u001b[39m\u001b[92m+ FLoops v0.2.1\u001b[39m\n",
            " \u001b[90m [b9860ae5] \u001b[39m\u001b[92m+ FLoopsBase v0.1.1\u001b[39m\n",
            " \u001b[90m [5789e2e9] \u001b[39m\u001b[92m+ FileIO v1.16.1\u001b[39m\n",
            " \u001b[90m [48062228] \u001b[39m\u001b[92m+ FilePathsBase v0.9.20\u001b[39m\n",
            " \u001b[90m [1a297f60] \u001b[39m\u001b[92m+ FillArrays v1.6.0\u001b[39m\n",
            " \u001b[90m [53c48c17] \u001b[39m\u001b[92m+ FixedPointNumbers v0.8.4\u001b[39m\n",
            "\u001b[33m⌅\u001b[39m\u001b[90m [587475ba] \u001b[39m\u001b[92m+ Flux v0.13.17\u001b[39m\n",
            " \u001b[90m [f6369f11] \u001b[39m\u001b[92m+ ForwardDiff v0.10.36\u001b[39m\n",
            " \u001b[90m [d9f16b24] \u001b[39m\u001b[92m+ Functors v0.4.5\u001b[39m\n",
            "\u001b[33m⌅\u001b[39m\u001b[90m [92fee26a] \u001b[39m\u001b[92m+ GZip v0.5.2\u001b[39m\n",
            " \u001b[90m [c27321d9] \u001b[39m\u001b[92m+ Glob v1.3.1\u001b[39m\n",
            " \u001b[90m [f67ccb44] \u001b[39m\u001b[92m+ HDF5 v0.16.16\u001b[39m\n",
            " \u001b[90m [cd3eb016] \u001b[39m\u001b[92m+ HTTP v1.9.14\u001b[39m\n",
            " \u001b[90m [7869d1d1] \u001b[39m\u001b[92m+ IRTools v0.4.10\u001b[39m\n",
            " \u001b[90m [c817782e] \u001b[39m\u001b[92m+ ImageBase v0.1.7\u001b[39m\n",
            " \u001b[90m [a09fc81d] \u001b[39m\u001b[92m+ ImageCore v0.10.1\u001b[39m\n",
            " \u001b[90m [4e3cecfd] \u001b[39m\u001b[92m+ ImageShow v0.3.8\u001b[39m\n",
            " \u001b[90m [22cec73e] \u001b[39m\u001b[92m+ InitialValues v0.3.1\u001b[39m\n",
            " \u001b[90m [842dd82b] \u001b[39m\u001b[92m+ InlineStrings v1.4.0\u001b[39m\n",
            " \u001b[90m [7d512f48] \u001b[39m\u001b[92m+ InternedStrings v0.7.0\u001b[39m\n",
            " \u001b[90m [41ab1584] \u001b[39m\u001b[92m+ InvertedIndices v1.3.0\u001b[39m\n",
            " \u001b[90m [82899510] \u001b[39m\u001b[92m+ IteratorInterfaceExtensions v1.0.0\u001b[39m\n",
            " \u001b[90m [033835bb] \u001b[39m\u001b[92m+ JLD2 v0.4.33\u001b[39m\n",
            " \u001b[90m [0f8b85d8] \u001b[39m\u001b[92m+ JSON3 v1.13.2\u001b[39m\n",
            " \u001b[90m [b14d175d] \u001b[39m\u001b[92m+ JuliaVariables v0.2.4\u001b[39m\n",
            " \u001b[90m [b964fa9f] \u001b[39m\u001b[92m+ LaTeXStrings v1.3.0\u001b[39m\n",
            " \u001b[90m [8cdb02fc] \u001b[39m\u001b[92m+ LazyModules v0.3.1\u001b[39m\n",
            " \u001b[90m [e6f89c97] \u001b[39m\u001b[92m+ LoggingExtras v1.0.1\u001b[39m\n",
            " \u001b[90m [23992714] \u001b[39m\u001b[92m+ MAT v0.10.5\u001b[39m\n",
            " \u001b[90m [eb30cadb] \u001b[39m\u001b[92m+ MLDatasets v0.7.12\u001b[39m\n",
            " \u001b[90m [d8e11817] \u001b[39m\u001b[92m+ MLStyle v0.4.17\u001b[39m\n",
            " \u001b[90m [f1d291b0] \u001b[39m\u001b[92m+ MLUtils v0.4.3\u001b[39m\n",
            " \u001b[90m [3da0fdf6] \u001b[39m\u001b[92m+ MPIPreferences v0.1.9\u001b[39m\n",
            " \u001b[90m [dbb5928d] \u001b[39m\u001b[92m+ MappedArrays v0.4.2\u001b[39m\n",
            " \u001b[90m [128add7d] \u001b[39m\u001b[92m+ MicroCollections v0.1.4\u001b[39m\n",
            " \u001b[90m [e1d29d7a] \u001b[39m\u001b[92m+ Missings v1.1.0\u001b[39m\n",
            " \u001b[90m [e94cdb99] \u001b[39m\u001b[92m+ MosaicViews v0.3.4\u001b[39m\n",
            "\u001b[33m⌅\u001b[39m\u001b[90m [872c559c] \u001b[39m\u001b[92m+ NNlib v0.8.21\u001b[39m\n",
            " \u001b[90m [a00861dc] \u001b[39m\u001b[92m+ NNlibCUDA v0.2.7\u001b[39m\n",
            " \u001b[90m [15e1cf62] \u001b[39m\u001b[92m+ NPZ v0.4.3\u001b[39m\n",
            " \u001b[90m [77ba4419] \u001b[39m\u001b[92m+ NaNMath v1.0.2\u001b[39m\n",
            " \u001b[90m [71a1bf82] \u001b[39m\u001b[92m+ NameResolution v0.1.5\u001b[39m\n",
            " \u001b[90m [6fe1bfb0] \u001b[39m\u001b[92m+ OffsetArrays v1.12.10\u001b[39m\n",
            " \u001b[90m [0b1bfda6] \u001b[39m\u001b[92m+ OneHotArrays v0.2.4\u001b[39m\n",
            " \u001b[90m [4d8831e6] \u001b[39m\u001b[92m+ OpenSSL v1.4.1\u001b[39m\n",
            " \u001b[90m [3bd65402] \u001b[39m\u001b[92m+ Optimisers v0.2.20\u001b[39m\n",
            " \u001b[90m [bac558e1] \u001b[39m\u001b[92m+ OrderedCollections v1.6.2\u001b[39m\n",
            " \u001b[90m [5432bcbf] \u001b[39m\u001b[92m+ PaddedViews v0.5.12\u001b[39m\n",
            " \u001b[90m [7b2266bf] \u001b[39m\u001b[92m+ PeriodicTable v1.1.4\u001b[39m\n",
            " \u001b[90m [fbb45041] \u001b[39m\u001b[92m+ Pickle v0.3.3\u001b[39m\n",
            " \u001b[90m [2dfb63ee] \u001b[39m\u001b[92m+ PooledArrays v1.4.2\u001b[39m\n",
            " \u001b[90m [8162dcfd] \u001b[39m\u001b[92m+ PrettyPrint v0.2.0\u001b[39m\n",
            " \u001b[90m [08abe8d2] \u001b[39m\u001b[92m+ PrettyTables v2.2.7\u001b[39m\n",
            " \u001b[90m [33c8b6b6] \u001b[39m\u001b[92m+ ProgressLogging v0.1.4\u001b[39m\n",
            " \u001b[90m [c1ae055f] \u001b[39m\u001b[92m+ RealDot v0.1.0\u001b[39m\n",
            " \u001b[90m [91c51154] \u001b[39m\u001b[92m+ SentinelArrays v1.4.0\u001b[39m\n",
            " \u001b[90m [efcf1570] \u001b[39m\u001b[92m+ Setfield v1.1.1\u001b[39m\n",
            " \u001b[90m [605ecd9f] \u001b[39m\u001b[92m+ ShowCases v0.1.0\u001b[39m\n",
            " \u001b[90m [777ac1f9] \u001b[39m\u001b[92m+ SimpleBufferStream v1.1.0\u001b[39m\n",
            " \u001b[90m [699a6c99] \u001b[39m\u001b[92m+ SimpleTraits v0.9.4\u001b[39m\n",
            " \u001b[90m [a2af1166] \u001b[39m\u001b[92m+ SortingAlgorithms v1.1.1\u001b[39m\n",
            " \u001b[90m [171d559e] \u001b[39m\u001b[92m+ SplittablesBase v0.1.15\u001b[39m\n",
            " \u001b[90m [cae243ae] \u001b[39m\u001b[92m+ StackViews v0.1.1\u001b[39m\n",
            " \u001b[90m [82ae8749] \u001b[39m\u001b[92m+ StatsAPI v1.6.0\u001b[39m\n",
            " \u001b[90m [2913bbd2] \u001b[39m\u001b[92m+ StatsBase v0.34.0\u001b[39m\n",
            "\u001b[33m⌅\u001b[39m\u001b[90m [5e0ebb24] \u001b[39m\u001b[92m+ Strided v1.2.3\u001b[39m\n",
            " \u001b[90m [69024149] \u001b[39m\u001b[92m+ StringEncodings v0.3.7\u001b[39m\n",
            " \u001b[90m [892a3eda] \u001b[39m\u001b[92m+ StringManipulation v0.3.0\u001b[39m\n",
            " \u001b[90m [09ab397b] \u001b[39m\u001b[92m+ StructArrays v0.6.15\u001b[39m\n",
            " \u001b[90m [856f2bd8] \u001b[39m\u001b[92m+ StructTypes v1.10.0\u001b[39m\n",
            " \u001b[90m [3783bdb8] \u001b[39m\u001b[92m+ TableTraits v1.0.1\u001b[39m\n",
            " \u001b[90m [bd369af6] \u001b[39m\u001b[92m+ Tables v1.10.1\u001b[39m\n",
            " \u001b[90m [62fd8b95] \u001b[39m\u001b[92m+ TensorCore v0.1.1\u001b[39m\n",
            " \u001b[90m [3bb67fe8] \u001b[39m\u001b[92m+ TranscodingStreams v0.9.13\u001b[39m\n",
            " \u001b[90m [28d57a85] \u001b[39m\u001b[92m+ Transducers v0.4.78\u001b[39m\n",
            " \u001b[90m [9d95972d] \u001b[39m\u001b[92m+ TupleTools v1.3.0\u001b[39m\n",
            " \u001b[90m [5c2747f8] \u001b[39m\u001b[92m+ URIs v1.5.0\u001b[39m\n",
            " \u001b[90m [1986cc42] \u001b[39m\u001b[92m+ Unitful v1.16.3\u001b[39m\n",
            " \u001b[90m [a7773ee8] \u001b[39m\u001b[92m+ UnitfulAtomic v1.0.0\u001b[39m\n",
            " \u001b[90m [ea10d353] \u001b[39m\u001b[92m+ WeakRefStrings v1.4.2\u001b[39m\n",
            " \u001b[90m [76eceee3] \u001b[39m\u001b[92m+ WorkerUtilities v1.6.1\u001b[39m\n",
            " \u001b[90m [a5390f91] \u001b[39m\u001b[92m+ ZipFile v0.10.1\u001b[39m\n",
            " \u001b[90m [e88e6eb3] \u001b[39m\u001b[92m+ Zygote v0.6.63\u001b[39m\n",
            " \u001b[90m [700de1a5] \u001b[39m\u001b[92m+ ZygoteRules v0.2.3\u001b[39m\n",
            " \u001b[90m [02a925ec] \u001b[39m\u001b[92m+ cuDNN v1.1.0\u001b[39m\n",
            " \u001b[90m [62b44479] \u001b[39m\u001b[92m+ CUDNN_jll v8.9.4+0\u001b[39m\n",
            " \u001b[90m [78a364fa] \u001b[39m\u001b[92m+ Chemfiles_jll v0.10.4+0\u001b[39m\n",
            " \u001b[90m [0234f1f7] \u001b[39m\u001b[92m+ HDF5_jll v1.14.1+0\u001b[39m\n",
            " \u001b[90m [1d63c593] \u001b[39m\u001b[92m+ LLVMOpenMP_jll v15.0.4+0\u001b[39m\n",
            " \u001b[90m [94ce4f54] \u001b[39m\u001b[92m+ Libiconv_jll v1.16.1+2\u001b[39m\n",
            " \u001b[90m [7cb0a576] \u001b[39m\u001b[92m+ MPICH_jll v4.1.2+0\u001b[39m\n",
            " \u001b[90m [f1f71cc9] \u001b[39m\u001b[92m+ MPItrampoline_jll v5.3.1+0\u001b[39m\n",
            " \u001b[90m [9237b28f] \u001b[39m\u001b[92m+ MicrosoftMPI_jll v10.1.3+4\u001b[39m\n",
            " \u001b[90m [fe0851c0] \u001b[39m\u001b[92m+ OpenMPI_jll v4.1.5+0\u001b[39m\n",
            " \u001b[90m [458c3c95] \u001b[39m\u001b[92m+ OpenSSL_jll v3.0.10+0\u001b[39m\n",
            " \u001b[90m [477f73a3] \u001b[39m\u001b[92m+ libaec_jll v1.0.6+1\u001b[39m\n",
            " \u001b[90m [8bb1440f] \u001b[39m\u001b[92m+ DelimitedFiles\u001b[39m\n",
            " \u001b[90m [8ba89e20] \u001b[39m\u001b[92m+ Distributed\u001b[39m\n",
            " \u001b[90m [9fa8497b] \u001b[39m\u001b[92m+ Future\u001b[39m\n",
            "\u001b[36m\u001b[1m        Info\u001b[22m\u001b[39m Packages marked with \u001b[33m⌅\u001b[39m have new versions available but compatibility constraints restrict them from upgrading. To see why use `status --outdated -m`\n",
            "\u001b[32m\u001b[1m    Building\u001b[22m\u001b[39m HDF5 → `~/.julia/scratchspaces/44cfe95a-1eb2-52ea-b672-e2afdf69b78f/114e20044677badbc631ee6fdc80a67920561a29/build.log`\n",
            "\u001b[32m\u001b[1mPrecompiling\u001b[22m\u001b[39m project...\n",
            "\u001b[32m  ✓ \u001b[39m\u001b[90mLaTeXStrings\u001b[39m\n",
            "\u001b[32m  ✓ \u001b[39m\u001b[90mGlob\u001b[39m\n",
            "\u001b[32m  ✓ \u001b[39m\u001b[90mStructTypes\u001b[39m\n",
            "\u001b[32m  ✓ \u001b[39m\u001b[90mIteratorInterfaceExtensions\u001b[39m\n",
            "\u001b[32m  ✓ \u001b[39m\u001b[90mSentinelArrays\u001b[39m\n",
            "\u001b[32m  ✓ \u001b[39m\u001b[90mTensorCore\u001b[39m\n",
            "\u001b[32m  ✓ \u001b[39m\u001b[90mWorkerUtilities\u001b[39m\n",
            "\u001b[32m  ✓ \u001b[39m\u001b[90mStatsAPI\u001b[39m\n",
            "\u001b[32m  ✓ \u001b[39m\u001b[90mInitialValues\u001b[39m\n",
            "\u001b[32m  ✓ \u001b[39m\u001b[90mConcurrentUtilities\u001b[39m\n",
            "\u001b[32m  ✓ \u001b[39m\u001b[90mBufferedStreams\u001b[39m\n",
            "\u001b[32m  ✓ \u001b[39m\u001b[90mPrettyPrint\u001b[39m\n",
            "\u001b[32m  ✓ \u001b[39m\u001b[90mArgCheck\u001b[39m\n",
            "\u001b[32m  ✓ \u001b[39m\u001b[90mFixedPointNumbers\u001b[39m\n",
            "\u001b[32m  ✓ \u001b[39m\u001b[90mShowCases\u001b[39m\n",
            "\u001b[32m  ✓ \u001b[39m\u001b[90mFillArrays\u001b[39m\n",
            "\u001b[32m  ✓ \u001b[39m\u001b[90mOrderedCollections\u001b[39m\n",
            "\u001b[32m  ✓ \u001b[39m\u001b[90mInternedStrings\u001b[39m\n",
            "\u001b[32m  ✓ \u001b[39m\u001b[90mDataValueInterfaces\u001b[39m\n",
            "\u001b[32m  ✓ \u001b[39m\u001b[90mRealDot\u001b[39m\n",
            "\u001b[32m  ✓ \u001b[39m\u001b[90mMPIPreferences\u001b[39m\n",
            "\u001b[32m  ✓ \u001b[39m\u001b[90mURIs\u001b[39m\n",
            "\u001b[32m  ✓ \u001b[39m\u001b[90mStringManipulation\u001b[39m\n",
            "\u001b[32m  ✓ \u001b[39m\u001b[90mCompositionsBase\u001b[39m\n",
            "\u001b[32m  ✓ \u001b[39m\u001b[90mSimpleBufferStream\u001b[39m\n",
            "\u001b[32m  ✓ \u001b[39m\u001b[90mExceptionUnwrapping\u001b[39m\n",
            "\u001b[32m  ✓ \u001b[39m\u001b[90mDefineSingletons\u001b[39m\n",
            "\u001b[32m  ✓ \u001b[39m\u001b[90mTranscodingStreams\u001b[39m\n",
            "\u001b[32m  ✓ \u001b[39m\u001b[90mLazyModules\u001b[39m\n",
            "\u001b[32m  ✓ \u001b[39m\u001b[90mNaNMath\u001b[39m\n",
            "\u001b[32m  ✓ \u001b[39m\u001b[90mContextVariablesX\u001b[39m\n",
            "\u001b[32m  ✓ \u001b[39m\u001b[90mInvertedIndices\u001b[39m\n",
            "\u001b[32m  ✓ \u001b[39m\u001b[90mConstructionBase\u001b[39m\n",
            "\u001b[32m  ✓ \u001b[39m\u001b[90mIRTools\u001b[39m\n",
            "\u001b[32m  ✓ \u001b[39m\u001b[90mDataAPI\u001b[39m\n",
            "\u001b[32m  ✓ \u001b[39m\u001b[90mProgressLogging\u001b[39m\n",
            "\u001b[32m  ✓ \u001b[39m\u001b[90mBitFlags\u001b[39m\n",
            "\u001b[32m  ✓ \u001b[39m\u001b[90mCrayons\u001b[39m\n",
            "\u001b[32m  ✓ \u001b[39m\u001b[90mLoggingExtras\u001b[39m\n",
            "\u001b[32m  ✓ \u001b[39m\u001b[90mTupleTools\u001b[39m\n",
            "\u001b[32m  ✓ \u001b[39m\u001b[90mMappedArrays\u001b[39m\n",
            "\u001b[32m  ✓ \u001b[39m\u001b[90mFunctors\u001b[39m\n",
            "\u001b[32m  ✓ \u001b[39m\u001b[90mSimpleTraits\u001b[39m\n",
            "\u001b[32m  ✓ \u001b[39m\u001b[90mBaselet\u001b[39m\n",
            "\u001b[32m  ✓ \u001b[39m\u001b[90mGZip\u001b[39m\n",
            "\u001b[32m  ✓ \u001b[39m\u001b[90mFileIO\u001b[39m\n",
            "\u001b[32m  ✓ \u001b[39m\u001b[90mCommonSubexpressions\u001b[39m\n",
            "\u001b[32m  ✓ \u001b[39m\u001b[90mZipFile\u001b[39m\n",
            "\u001b[32m  ✓ \u001b[39m\u001b[90mFilePathsBase\u001b[39m\n",
            "\u001b[32m  ✓ \u001b[39m\u001b[90mZygoteRules\u001b[39m\n",
            "\u001b[32m  ✓ \u001b[39m\u001b[90mDiffResults\u001b[39m\n",
            "\u001b[32m  ✓ \u001b[39m\u001b[90mOffsetArrays\u001b[39m\n",
            "\u001b[32m  ✓ \u001b[39m\u001b[90mOpenSSL_jll\u001b[39m\n",
            "\u001b[32m  ✓ \u001b[39m\u001b[90mLLVMOpenMP_jll\u001b[39m\n",
            "\u001b[32m  ✓ \u001b[39m\u001b[90mChemfiles_jll\u001b[39m\n",
            "\u001b[32m  ✓ \u001b[39m\u001b[90mlibaec_jll\u001b[39m\n",
            "\u001b[32m  ✓ \u001b[39m\u001b[90mMicrosoftMPI_jll\u001b[39m\n",
            "\u001b[32m  ✓ \u001b[39m\u001b[90mLibiconv_jll\u001b[39m\n",
            "\u001b[32m  ✓ \u001b[39m\u001b[90mCUDNN_jll\u001b[39m\n",
            "\u001b[32m  ✓ \u001b[39m\u001b[90mInlineStrings\u001b[39m\n",
            "\u001b[32m  ✓ \u001b[39m\u001b[90mMLStyle\u001b[39m\n",
            "\u001b[32m  ✓ \u001b[39m\u001b[90mTableTraits\u001b[39m\n",
            "\u001b[32m  ✓ \u001b[39m\u001b[90mNameResolution\u001b[39m\n",
            "\u001b[32m  ✓ \u001b[39m\u001b[90mColorTypes\u001b[39m\n",
            "\u001b[32m  ✓ \u001b[39m\u001b[90mNNlib\u001b[39m\n",
            "\u001b[32m  ✓ \u001b[39m\u001b[90mJSON3\u001b[39m\n",
            "\u001b[32m  ✓ \u001b[39m\u001b[90mDataStructures\u001b[39m\n",
            "\u001b[32m  ✓ \u001b[39m\u001b[90mMPItrampoline_jll\u001b[39m\n",
            "\u001b[32m  ✓ \u001b[39m\u001b[90mOpenMPI_jll\u001b[39m\n",
            "\u001b[32m  ✓ \u001b[39m\u001b[90mCodecZlib\u001b[39m\n",
            "\u001b[32m  ✓ \u001b[39m\u001b[90mMPICH_jll\u001b[39m\n",
            "\u001b[32m  ✓ \u001b[39m\u001b[90mFLoopsBase\u001b[39m\n",
            "\u001b[32m  ✓ \u001b[39m\u001b[90mDiffRules\u001b[39m\n",
            "\u001b[32m  ✓ \u001b[39m\u001b[90mPooledArrays\u001b[39m\n",
            "\u001b[32m  ✓ \u001b[39m\u001b[90mSetfield\u001b[39m\n",
            "\u001b[32m  ✓ \u001b[39m\u001b[90mMissings\u001b[39m\n",
            "\u001b[32m  ✓ \u001b[39m\u001b[90mStrided\u001b[39m\n",
            "\u001b[32m  ✓ \u001b[39m\u001b[90mOptimisers\u001b[39m\n",
            "\u001b[32m  ✓ \u001b[39m\u001b[90mNPZ\u001b[39m\n",
            "\u001b[32m  ✓ \u001b[39m\u001b[90mStackViews\u001b[39m\n",
            "\u001b[32m  ✓ \u001b[39m\u001b[90mPaddedViews\u001b[39m\n",
            "\u001b[32m  ✓ \u001b[39m\u001b[90mOpenSSL\u001b[39m\n",
            "\u001b[32m  ✓ \u001b[39m\u001b[90mStringEncodings\u001b[39m\n",
            "\u001b[32m  ✓ \u001b[39m\u001b[90mJLD2\u001b[39m\n",
            "\u001b[32m  ✓ \u001b[39m\u001b[90mcuDNN\u001b[39m\n",
            "\u001b[32m  ✓ \u001b[39m\u001b[90mWeakRefStrings\u001b[39m\n",
            "\u001b[32m  ✓ \u001b[39m\u001b[90mTables\u001b[39m\n",
            "\u001b[32m  ✓ \u001b[39m\u001b[90mColorVectorSpace\u001b[39m\n",
            "\u001b[32m  ✓ \u001b[39m\u001b[90mJuliaVariables\u001b[39m\n",
            "\u001b[32m  ✓ \u001b[39m\u001b[90mUnitful\u001b[39m\n",
            "\u001b[32m  ✓ \u001b[39m\u001b[90mColors\u001b[39m\n",
            "\u001b[32m  ✓ \u001b[39m\u001b[90mSortingAlgorithms\u001b[39m\n",
            "\u001b[32m  ✓ \u001b[39m\u001b[90mOneHotArrays\u001b[39m\n",
            "\u001b[32m  ✓ \u001b[39m\u001b[90mHDF5_jll\u001b[39m\n",
            "\u001b[32m  ✓ \u001b[39m\u001b[90mSplittablesBase\u001b[39m\n",
            "\u001b[32m  ✓ \u001b[39m\u001b[90mMosaicViews\u001b[39m\n",
            "\u001b[32m  ✓ \u001b[39m\u001b[90mPickle\u001b[39m\n",
            "\u001b[32m  ✓ \u001b[39m\u001b[90mHTTP\u001b[39m\n",
            "\u001b[32m  ✓ \u001b[39m\u001b[90mForwardDiff\u001b[39m\n",
            "\u001b[32m  ✓ \u001b[39m\u001b[90mBangBang\u001b[39m\n",
            "\u001b[32m  ✓ \u001b[39m\u001b[90mStructArrays\u001b[39m\n",
            "\u001b[32m  ✓ \u001b[39m\u001b[90mPrettyTables\u001b[39m\n",
            "\u001b[32m  ✓ \u001b[39m\u001b[90mNNlibCUDA\u001b[39m\n",
            "\u001b[32m  ✓ \u001b[39m\u001b[90mPeriodicTable\u001b[39m\n",
            "\u001b[32m  ✓ \u001b[39m\u001b[90mUnitfulAtomic\u001b[39m\n",
            "\u001b[32m  ✓ \u001b[39m\u001b[90mStatsBase\u001b[39m\n",
            "\u001b[32m  ✓ \u001b[39m\u001b[90mCSV\u001b[39m\n",
            "\u001b[32m  ✓ \u001b[39m\u001b[90mColorSchemes\u001b[39m\n",
            "\u001b[32m  ✓ \u001b[39m\u001b[90mDataDeps\u001b[39m\n",
            "\u001b[32m  ✓ \u001b[39m\u001b[90mMicroCollections\u001b[39m\n",
            "\u001b[32m  ✓ \u001b[39m\u001b[90mHDF5\u001b[39m\n",
            "\u001b[32m  ✓ \u001b[39m\u001b[90mChainRules\u001b[39m\n",
            "\u001b[32m  ✓ \u001b[39m\u001b[90mAtomsBase\u001b[39m\n",
            "\u001b[32m  ✓ \u001b[39m\u001b[90mTransducers\u001b[39m\n",
            "\u001b[32m  ✓ \u001b[39m\u001b[90mMAT\u001b[39m\n",
            "\u001b[32m  ✓ \u001b[39m\u001b[90mImageCore\u001b[39m\n",
            "\u001b[32m  ✓ \u001b[39m\u001b[90mChemfiles\u001b[39m\n",
            "\u001b[32m  ✓ \u001b[39m\u001b[90mZygote\u001b[39m\n",
            "\u001b[32m  ✓ \u001b[39m\u001b[90mFLoops\u001b[39m\n",
            "\u001b[32m  ✓ \u001b[39m\u001b[90mImageBase\u001b[39m\n",
            "\u001b[32m  ✓ \u001b[39m\u001b[90mImageShow\u001b[39m\n",
            "\u001b[32m  ✓ \u001b[39m\u001b[90mMLUtils\u001b[39m\n",
            "\u001b[32m  ✓ \u001b[39m\u001b[90mDataFrames\u001b[39m\n",
            "\u001b[32m  ✓ \u001b[39mMLDatasets\n",
            "\u001b[32m  ✓ \u001b[39mFlux\n",
            "  125 dependencies successfully precompiled in 280 seconds. 56 already precompiled.\n"
          ]
        }
      ]
    },
    {
      "cell_type": "code",
      "source": [
        "using Flux\n",
        "using Flux.Data: DataLoader\n",
        "using MLDatasets\n",
        "\n",
        "# Load MNIST dataset\n",
        "train_X, train_y = MNIST(split=:train)[:]\n",
        "test_X, test_y = MNIST(split=:test)[:]\n",
        "\n",
        "# Reshape dataset\n",
        "train_X = reshape(train_X, (28, 28, 1, :))\n",
        "test_X = reshape(test_X, (28, 28, 1, :))\n",
        "\n",
        "# One-hot encode target values\n",
        "train_y = Flux.onehotbatch(train_y, 0:9)\n",
        "test_y = Flux.onehotbatch(test_y, 0:9)\n",
        "\n",
        "# Normalize data\n",
        "train_X /= 255.0\n",
        "test_X /= 255.0\n",
        "\n",
        "println(\"Shape of train_X: $(size(train_X))\")\n",
        "println(\"Shape of test_X: $(size(test_X))\")\n"
      ],
      "metadata": {
        "id": "WcZBGB0pSOvc",
        "colab": {
          "base_uri": "https://localhost:8080/"
        },
        "outputId": "6698720b-0e54-4d66-b038-4426be765c37"
      },
      "execution_count": 1,
      "outputs": [
        {
          "output_type": "stream",
          "name": "stdout",
          "text": [
            "Shape of train_X: (28, 28, 1, 60000)\n",
            "Shape of test_X: (28, 28, 1, 10000)\n"
          ]
        }
      ]
    },
    {
      "cell_type": "markdown",
      "source": [
        "# GPU"
      ],
      "metadata": {
        "id": "o_7IJv1lXTI4"
      }
    },
    {
      "cell_type": "code",
      "source": [
        "using Flux\n",
        "\n",
        "calc_device = gpu\n",
        "\n",
        "model = Chain(\n",
        "    Conv((3, 3), 1=>32, pad=(1, 1), selu),\n",
        "    MaxPool((2, 2)),\n",
        "    Conv((3, 3), 32=>64, pad=(1, 1), selu),\n",
        "    MaxPool((2, 2)),\n",
        "    x -> reshape(x, :, size(x, 4)),  # Flatten layer\n",
        "    Dense(3136, 64),\n",
        "    selu,\n",
        "    Dense(64, 10),  # No activation here\n",
        "    softmax\n",
        ")  |> calc_device\n"
      ],
      "metadata": {
        "colab": {
          "base_uri": "https://localhost:8080/"
        },
        "id": "SjI_j3YEFqRe",
        "outputId": "f03c3a48-420c-4c1b-d324-77c61af9ad2c"
      },
      "execution_count": 2,
      "outputs": [
        {
          "output_type": "execute_result",
          "data": {
            "text/plain": [
              "Chain(\n",
              "  Conv((3, 3), 1 => 32, selu, pad=1),   \u001b[90m# 320 parameters\u001b[39m\n",
              "  MaxPool((2, 2)),\n",
              "  Conv((3, 3), 32 => 64, selu, pad=1),  \u001b[90m# 18_496 parameters\u001b[39m\n",
              "  MaxPool((2, 2)),\n",
              "  var\"#1#2\"(),\n",
              "  Dense(3136 => 64),                    \u001b[90m# 200_768 parameters\u001b[39m\n",
              "  NNlib.selu,\n",
              "  Dense(64 => 10),                      \u001b[90m# 650 parameters\u001b[39m\n",
              "  NNlib.softmax,\n",
              ") \u001b[90m                  # Total: 8 arrays, \u001b[39m220_234 parameters, 1.719 KiB."
            ]
          },
          "metadata": {},
          "execution_count": 2
        }
      ]
    },
    {
      "cell_type": "code",
      "source": [
        "# Define loss function and optimizer\n",
        "using Statistics\n",
        "\n",
        "loss(x, y) = Flux.crossentropy(model(x), y)\n",
        "accuracy(X, y) = Statistics.mean(Flux.onecold(model(X)) .== Flux.onecold(y))\n",
        "optimizer = ADAM(0.001)"
      ],
      "metadata": {
        "colab": {
          "base_uri": "https://localhost:8080/"
        },
        "id": "dXjok3BaFrm6",
        "outputId": "d8667e97-5e4f-4768-9510-4852907cd726"
      },
      "execution_count": 3,
      "outputs": [
        {
          "output_type": "execute_result",
          "data": {
            "text/plain": [
              "Adam(0.001, (0.9, 0.999), 1.0e-8, IdDict{Any, Any}())"
            ]
          },
          "metadata": {},
          "execution_count": 3
        }
      ]
    },
    {
      "cell_type": "code",
      "source": [
        "\n",
        "\n",
        "function get_gpu_memory_usage()\n",
        "    # Get the current memory usage of the GPU\n",
        "    test = CUDA.get_current_device().memory_allocated()\n",
        "\n",
        "    return test\n",
        "end"
      ],
      "metadata": {
        "colab": {
          "base_uri": "https://localhost:8080/"
        },
        "id": "r47DzTWTRJtg",
        "outputId": "e2088ac3-5504-43a1-ff1c-76b9c3354231"
      },
      "execution_count": 23,
      "outputs": [
        {
          "output_type": "execute_result",
          "data": {
            "text/plain": [
              "get_gpu_memory_usage (generic function with 2 methods)"
            ]
          },
          "metadata": {},
          "execution_count": 23
        }
      ]
    },
    {
      "cell_type": "code",
      "source": [
        "CUDA.memory_status()"
      ],
      "metadata": {
        "colab": {
          "base_uri": "https://localhost:8080/",
          "height": 159
        },
        "id": "d0kghMhPloN-",
        "outputId": "08d527a8-41e8-41c9-f910-601d3e478cc4"
      },
      "execution_count": 22,
      "outputs": [
        {
          "output_type": "error",
          "ename": "LoadError",
          "evalue": "ignored",
          "traceback": [
            "UndefVarError: CuArrays not defined",
            "",
            "Stacktrace:",
            " [1] top-level scope",
            "   @ In[22]:1"
          ]
        }
      ]
    },
    {
      "cell_type": "code",
      "source": [
        "using Flux\n",
        "using CUDA\n",
        "\n",
        "# Training configuration\n",
        "batch_size = 64\n",
        "num_epochs = 10\n",
        "\n",
        "# Initialize variables for monitoring\n",
        "total_training_time = 0.0\n",
        "total_memory_usage = 0\n",
        "throughputs = []\n",
        "\n",
        "monitoring_data = Dict(\n",
        "    \"epoch\" => [],\n",
        "    \"epoch_memory_usage\" => [],\n",
        "    \"epoch_time\" => [],\n",
        "    \"batch_processing_time\" => [],\n",
        "    \"throughput\" => [],\n",
        "    \"accuracy\" => [],\n",
        "    \"loss\" => [],\n",
        ")\n",
        "\n",
        "# Start training loop\n",
        "for epoch in 1:num_epochs\n",
        "    println(\"Epoch $epoch/$num_epochs\")\n",
        "\n",
        "    # Initialize variables for epoch-level monitoring\n",
        "    total_batch_processing_time = 0.0\n",
        "    epoch_memory_use = 0\n",
        "    epoch_start_time = time()\n",
        "\n",
        "    loss_value = 0.0\n",
        "    accuracy_value = 0.0\n",
        "\n",
        "    coef = 0\n",
        "\n",
        "\n",
        "    # mem_info = CUDA.memoryinfo()\n",
        "\n",
        "    for batch_start in 1:batch_size:size(train_X, 4)\n",
        "\n",
        "\n",
        "        batch_start_time = time()\n",
        "\n",
        "        batch_end = min(batch_start + batch_size - 1, size(train_X, 4))\n",
        "\n",
        "        batch_x = train_X[:, :, :, batch_start:batch_end]\n",
        "        batch_y = train_y[:, batch_start:batch_end]\n",
        "\n",
        "\n",
        "        # Perform training step\n",
        "        #loss_value = Flux.train!(loss, Flux.params(model), DataLoader((batch_x, batch_y)), optimizer)\n",
        "\n",
        "        x, y = calc_device(batch_x), calc_device(batch_y)\n",
        "        gradients = Flux.gradient(() -> loss(x, y), Flux.params(model))\n",
        "        Flux.Optimise.update!(optimizer, Flux.params(model), gradients)\n",
        "\n",
        "        # collect the loss and accuracy from each batch\n",
        "        loss_value += loss(x, y)\n",
        "        accuracy_value += accuracy(x, y)\n",
        "        # accuracy_value += (accuracy(x, y) / 938)\n",
        "\n",
        "\n",
        "        batch_processing_time = time() - batch_start_time\n",
        "        total_batch_processing_time += batch_processing_time\n",
        "\n",
        "        # Calculate memory usage\n",
        "        # epoch_memory_use += CUDA.memory_status().free\n",
        "\n",
        "        coef +=1\n",
        "    end\n",
        "\n",
        "    CUDA.memory_status()\n",
        "\n",
        "    #epoch_memory_use = mem_info.total - mem_info.free\n",
        "\n",
        "    accuracy_value /= coef\n",
        "    loss_value /= coef\n",
        "\n",
        "    epoch_end_time = time()\n",
        "    epoch_time = epoch_end_time - epoch_start_time\n",
        "    total_training_time += epoch_time\n",
        "    total_memory_usage += epoch_memory_use\n",
        "\n",
        "    num_samples = size(train_X, 4)\n",
        "    throughput = num_samples / epoch_time\n",
        "    push!(throughputs, throughput)\n",
        "\n",
        "    println(\" - Memory Usage: $epoch_memory_use bytes\")\n",
        "    println(\" - Epoch Time: $epoch_time seconds\")\n",
        "    println(\" - Batch Processing Time: $total_batch_processing_time seconds\")\n",
        "    println(\" - Throughput: $throughput samples/second\")\n",
        "\n",
        "    # Evaluate accuracy and convergence\n",
        "    println(\" - Accuracy: $accuracy_value\")\n",
        "    println(\" - Loss: $loss_value\")\n",
        "\n",
        "    push!(monitoring_data[\"epoch\"], epoch)\n",
        "    push!(monitoring_data[\"epoch_memory_usage\"], epoch_memory_use)\n",
        "    push!(monitoring_data[\"epoch_time\"], epoch_time)\n",
        "    push!(monitoring_data[\"batch_processing_time\"], total_batch_processing_time)\n",
        "    push!(monitoring_data[\"throughput\"], throughput)\n",
        "    push!(monitoring_data[\"accuracy\"], accuracy_value)\n",
        "    push!(monitoring_data[\"loss\"], loss_value)\n",
        "end\n",
        "\n",
        "\n",
        "println(\"Total Training Time: $total_training_time seconds\")\n",
        "println(\"Average Memory Usage: $(total_memory_usage / num_epochs) bytes\")\n"
      ],
      "metadata": {
        "id": "Nb0NJhlct0ny",
        "colab": {
          "base_uri": "https://localhost:8080/",
          "height": 1000
        },
        "outputId": "a606d4f4-5380-414f-912a-3f43e7505a89"
      },
      "execution_count": 5,
      "outputs": [
        {
          "output_type": "stream",
          "name": "stdout",
          "text": [
            "Epoch 1/10\n",
            "Effective GPU memory usage: 99.81% (14.720 GiB/14.748 GiB)\n",
            "Memory pool usage: 4.054 GiB (14.094 GiB reserved)\n",
            " - Memory Usage: 0 bytes\n",
            " - Epoch Time: 7.473342180252075 seconds\n",
            " - Batch Processing Time: 7.009091377258301 seconds\n",
            " - Throughput: 8028.536436956805 samples/second\n",
            " - Accuracy: 0.956972947761194\n",
            " - Loss: 0.14257603423319448\n",
            "Epoch 2/10\n",
            "Effective GPU memory usage: 99.81% (14.720 GiB/14.748 GiB)\n",
            "Memory pool usage: 6.130 GiB (14.094 GiB reserved)\n",
            " - Memory Usage: 0 bytes\n",
            " - Epoch Time: 5.853379964828491 seconds\n",
            " - Batch Processing Time: 5.842292070388794 seconds\n",
            " - Throughput: 10250.48781396819 samples/second\n",
            " - Accuracy: 0.9734141791044776\n",
            " - Loss: 0.08795969742104542\n",
            "Epoch 3/10\n",
            "Effective GPU memory usage: 99.81% (14.720 GiB/14.748 GiB)\n",
            "Memory pool usage: 8.191 GiB (14.094 GiB reserved)\n",
            " - Memory Usage: 0 bytes\n",
            " - Epoch Time: 5.81629204750061 seconds\n",
            " - Batch Processing Time: 5.804774522781372 seconds\n",
            " - Throughput: 10315.850633013404 samples/second\n",
            " - Accuracy: 0.9801272654584222\n",
            " - Loss: 0.06598281240576495\n",
            "Epoch 4/10\n",
            "Effective GPU memory usage: 99.81% (14.720 GiB/14.748 GiB)\n",
            "Memory pool usage: 10.268 GiB (14.094 GiB reserved)\n",
            " - Memory Usage: 0 bytes\n",
            " - Epoch Time: 5.829387903213501 seconds\n",
            " - Batch Processing Time: 5.81819224357605 seconds\n",
            " - Throughput: 10292.675834271464 samples/second\n",
            " - Accuracy: 0.984358342217484\n",
            " - Loss: 0.05258533174077968\n",
            "Epoch 5/10\n",
            "Effective GPU memory usage: 99.81% (14.720 GiB/14.748 GiB)\n",
            "Memory pool usage: 12.329 GiB (14.094 GiB reserved)\n",
            " - Memory Usage: 0 bytes\n",
            " - Epoch Time: 5.748003959655762 seconds\n",
            " - Batch Processing Time: 5.736679792404175 seconds\n",
            " - Throughput: 10438.406170407945 samples/second\n",
            " - Accuracy: 0.9874900053304904\n",
            " - Loss: 0.04281172011190204\n",
            "Epoch 6/10\n",
            "Effective GPU memory usage: 99.81% (14.720 GiB/14.748 GiB)\n",
            "Memory pool usage: 384.886 MiB (14.094 GiB reserved)\n",
            " - Memory Usage: 0 bytes\n",
            " - Epoch Time: 5.988761901855469 seconds\n",
            " - Batch Processing Time: 5.976889610290527 seconds\n",
            " - Throughput: 10018.765311309253 samples/second\n",
            " - Accuracy: 0.9898554104477612\n",
            " - Loss: 0.03556465600672273\n",
            "Epoch 7/10\n",
            "Effective GPU memory usage: 99.81% (14.720 GiB/14.748 GiB)\n",
            "Memory pool usage: 2.448 GiB (14.094 GiB reserved)\n",
            " - Memory Usage: 0 bytes\n",
            " - Epoch Time: 5.729742050170898 seconds\n",
            " - Batch Processing Time: 5.7186119556427 seconds\n",
            " - Throughput: 10471.675596322946 samples/second\n",
            " - Accuracy: 0.992070895522388\n",
            " - Loss: 0.028976557567687224\n",
            "Epoch 8/10\n",
            "Effective GPU memory usage: 99.81% (14.720 GiB/14.748 GiB)\n",
            "Memory pool usage: 4.514 GiB (14.094 GiB reserved)\n",
            " - Memory Usage: 0 bytes\n",
            " - Epoch Time: 6.01612401008606 seconds\n",
            " - Batch Processing Time: 6.004154920578003 seconds\n",
            " - Throughput: 9973.198673998362 samples/second\n",
            " - Accuracy: 0.9933702025586354\n",
            " - Loss: 0.024128054629458006\n",
            "Epoch 9/10\n",
            "Effective GPU memory usage: 99.81% (14.720 GiB/14.748 GiB)\n",
            "Memory pool usage: 6.585 GiB (14.094 GiB reserved)\n",
            " - Memory Usage: 0 bytes\n",
            " - Epoch Time: 5.662712812423706 seconds\n",
            " - Batch Processing Time: 5.6517250537872314 seconds\n",
            " - Throughput: 10595.628277027052 samples/second\n",
            " - Accuracy: 0.9948527452025586\n",
            " - Loss: 0.01962278576080117\n",
            "Epoch 10/10\n",
            "Effective GPU memory usage: 99.81% (14.720 GiB/14.748 GiB)\n",
            "Memory pool usage: 8.651 GiB (14.094 GiB reserved)\n",
            " - Memory Usage: 0 bytes\n",
            " - Epoch Time: 5.975934982299805 seconds\n",
            " - Batch Processing Time: 5.96423602104187 seconds\n",
            " - Throughput: 10040.269878724373 samples/second\n",
            " - Accuracy: 0.9963019722814499\n",
            " - Loss: 0.015351938454834457\n",
            "Total Training Time: 60.09368181228638 seconds\n",
            "Average Memory Usage: 0.0 bytes\n"
          ]
        },
        {
          "output_type": "error",
          "ename": "LoadError",
          "evalue": "ignored",
          "traceback": [
            "syntax: \"$\" expression outside quote around In[5]:110",
            "",
            "Stacktrace:",
            " [1] top-level scope",
            "   @ In[5]:110"
          ]
        }
      ]
    },
    {
      "cell_type": "code",
      "source": [
        "using JSON\n",
        "json_filename = \"GPU_JULIA_epoch_data.json\"\n",
        "\n",
        "stringdata = JSON.json(monitoring_data)\n",
        "\n",
        "# write the file with the stringdata variable information\n",
        "open(json_filename, \"w\") do f\n",
        "        write(f, stringdata)\n",
        "     end"
      ],
      "metadata": {
        "colab": {
          "base_uri": "https://localhost:8080/"
        },
        "id": "63YtxH4CfL1U",
        "outputId": "198a4ccf-2bfd-43d6-8782-7e7b6de1f2c7"
      },
      "execution_count": 6,
      "outputs": [
        {
          "output_type": "execute_result",
          "data": {
            "text/plain": [
              "1085"
            ]
          },
          "metadata": {},
          "execution_count": 6
        }
      ]
    },
    {
      "cell_type": "markdown",
      "source": [
        "# CPU"
      ],
      "metadata": {
        "id": "HPWi8QkCfNcn"
      }
    },
    {
      "cell_type": "code",
      "source": [
        "using Flux\n",
        "\n",
        "calc_device = cpu\n",
        "\n",
        "model = Chain(\n",
        "    Conv((3, 3), 1=>32, pad=(1, 1), selu),\n",
        "    MaxPool((2, 2)),\n",
        "    Conv((3, 3), 32=>64, pad=(1, 1), selu),\n",
        "    MaxPool((2, 2)),\n",
        "    x -> reshape(x, :, size(x, 4)),  # Flatten layer\n",
        "    Dense(3136, 64),\n",
        "    selu,\n",
        "    Dense(64, 10),  # No activation here\n",
        "    softmax\n",
        ")  |> calc_device\n"
      ],
      "metadata": {
        "id": "2e43DMkzXEla",
        "colab": {
          "base_uri": "https://localhost:8080/"
        },
        "outputId": "0dec2a89-d50b-4163-c75c-0652aec23f62"
      },
      "execution_count": null,
      "outputs": [
        {
          "output_type": "execute_result",
          "data": {
            "text/plain": [
              "Chain(\n",
              "  Conv((3, 3), 1 => 32, selu, pad=1),   \u001b[90m# 320 parameters\u001b[39m\n",
              "  MaxPool((2, 2)),\n",
              "  Conv((3, 3), 32 => 64, selu, pad=1),  \u001b[90m# 18_496 parameters\u001b[39m\n",
              "  MaxPool((2, 2)),\n",
              "  var\"#1#2\"(),\n",
              "  Dense(3136 => 64),                    \u001b[90m# 200_768 parameters\u001b[39m\n",
              "  NNlib.selu,\n",
              "  Dense(64 => 10),                      \u001b[90m# 650 parameters\u001b[39m\n",
              "  NNlib.softmax,\n",
              ") \u001b[90m                  # Total: 8 arrays, \u001b[39m220_234 parameters, 861.398 KiB."
            ]
          },
          "metadata": {},
          "execution_count": 3
        }
      ]
    },
    {
      "cell_type": "code",
      "source": [
        "# Define loss function and optimizer\n",
        "using Statistics\n",
        "\n",
        "loss(x, y) = Flux.crossentropy(model(x), y)\n",
        "accuracy(X, y) = Statistics.mean(Flux.onecold(model(X)) .== Flux.onecold(y))\n",
        "optimizer = ADAM(0.001)"
      ],
      "metadata": {
        "id": "GB-r-hvXXGNx",
        "colab": {
          "base_uri": "https://localhost:8080/"
        },
        "outputId": "3577a72e-d771-441d-a85d-9b731cc587c2"
      },
      "execution_count": null,
      "outputs": [
        {
          "output_type": "execute_result",
          "data": {
            "text/plain": [
              "Adam(0.001, (0.9, 0.999), 1.0e-8, IdDict{Any, Any}())"
            ]
          },
          "metadata": {},
          "execution_count": 4
        }
      ]
    },
    {
      "cell_type": "code",
      "source": [
        "using Flux\n",
        "using Flux.Data: DataLoader\n",
        "using MLDatasets\n",
        "using JSON\n",
        "using CUDA\n",
        "\n",
        "\n",
        "# Training configuration\n",
        "batch_size = 64\n",
        "num_epochs = 10\n",
        "\n",
        "# Initialize variables for monitoring\n",
        "total_training_time = 0.0\n",
        "total_memory_usage = 0\n",
        "throughputs = []\n",
        "\n",
        "monitoring_data = Dict(\n",
        "    \"epoch\" => [],\n",
        "    \"epoch_memory_usage\" => [],\n",
        "    \"epoch_time\" => [],\n",
        "    \"batch_processing_time\" => [],\n",
        "    \"throughput\" => [],\n",
        "    \"accuracy\" => [],\n",
        "    \"loss\" => [],\n",
        ")\n",
        "\n",
        "# Start training loop\n",
        "for epoch in 1:num_epochs\n",
        "    println(\"Epoch $epoch/$num_epochs\")\n",
        "\n",
        "    # Initialize variables for epoch-level monitoring\n",
        "    total_batch_processing_time = 0.0\n",
        "    epoch_memory_use = 0\n",
        "    epoch_start_time = time()\n",
        "\n",
        "    loss_value = 0.0\n",
        "    accuracy_value = 0.0\n",
        "\n",
        "\n",
        "\n",
        "    for batch_start in 1:batch_size:size(train_X, 4)\n",
        "\n",
        "\n",
        "        batch_start_time = time()\n",
        "\n",
        "        batch_end = min(batch_start + batch_size - 1, size(train_X, 4))\n",
        "\n",
        "        batch_x = train_X[:, :, :, batch_start:batch_end]\n",
        "        batch_y = train_y[:, batch_start:batch_end]\n",
        "\n",
        "\n",
        "        # Perform training step\n",
        "        #loss_value = Flux.train!(loss, Flux.params(model), DataLoader((batch_x, batch_y)), optimizer)\n",
        "\n",
        "        x, y = calc_device(batch_x), calc_device(batch_y)\n",
        "        gradients = Flux.gradient(() -> loss(x, y), Flux.params(model))\n",
        "        Flux.Optimise.update!(optimizer, Flux.params(model), gradients)\n",
        "\n",
        "        # collect the loss and accuracy from each batch\n",
        "        loss_value += (loss(x, y) / 938)\n",
        "        accuracy_value += (accuracy(x, y) / 938)\n",
        "\n",
        "\n",
        "        batch_processing_time = time() - batch_start_time\n",
        "        total_batch_processing_time += batch_processing_time\n",
        "\n",
        "        # Calculate memory usage\n",
        "        # epoch_memory_use += CUDA.memory_status().free\n",
        "    end\n",
        "\n",
        "    epoch_end_time = time()\n",
        "    epoch_time = epoch_end_time - epoch_start_time\n",
        "    total_training_time += epoch_time\n",
        "    total_memory_usage += epoch_memory_use\n",
        "\n",
        "    num_samples = size(train_X, 4)\n",
        "    throughput = num_samples / epoch_time\n",
        "    push!(throughputs, throughput)\n",
        "\n",
        "    println(\" - Memory Usage: $epoch_memory_use bytes\")\n",
        "    println(\" - Epoch Time: $epoch_time seconds\")\n",
        "    println(\" - Batch Processing Time: $total_batch_processing_time seconds\")\n",
        "    println(\" - Throughput: $throughput samples/second\")\n",
        "\n",
        "    # Evaluate accuracy and convergence\n",
        "    println(\" - Accuracy: $accuracy_value\")\n",
        "    println(\" - Loss: $loss_value\")\n",
        "\n",
        "    push!(monitoring_data[\"epoch\"], epoch)\n",
        "    push!(monitoring_data[\"epoch_memory_usage\"], epoch_memory_use)\n",
        "    push!(monitoring_data[\"epoch_time\"], epoch_time)\n",
        "    push!(monitoring_data[\"batch_processing_time\"], total_batch_processing_time)\n",
        "    push!(monitoring_data[\"throughput\"], throughput)\n",
        "    push!(monitoring_data[\"accuracy\"], accuracy_value)\n",
        "    push!(monitoring_data[\"loss\"], loss_value)\n",
        "end\n",
        "\n",
        "\n",
        "println(\"Total Training Time: $total_training_time seconds\")\n",
        "println(\"Average Memory Usage: $(total_memory_usage / num_epochs) bytes\")\n",
        "println(\"Average Throughput: $(sum(throughputs) / num_epochs) samples/second\"))\n"
      ],
      "metadata": {
        "id": "YLa4saiHSUv7",
        "colab": {
          "base_uri": "https://localhost:8080/"
        },
        "outputId": "93dd24e5-3577-4d8c-a915-55fb4298e409"
      },
      "execution_count": null,
      "outputs": [
        {
          "output_type": "stream",
          "name": "stdout",
          "text": [
            "Epoch 1/10\n",
            " - Memory Usage: 0 bytes\n",
            " - Epoch Time: 6.511749029159546 seconds\n",
            " - Batch Processing Time: 6.502673149108887 seconds\n",
            " - Throughput: 9214.114323405372 samples/second\n",
            " - Accuracy: 0.869986007462691\n",
            " - Loss: 0.43604071559457225\n",
            "Epoch 2/10\n",
            " - Memory Usage: 0 bytes\n",
            " - Epoch Time: 4.527939081192017 seconds\n",
            " - Batch Processing Time: 4.519378185272217 seconds\n",
            " - Throughput: 13251.06166936427 samples/second\n",
            " - Accuracy: 0.9611040778251647\n",
            " - Loss: 0.13175277564869248\n",
            "Epoch 3/10\n",
            " - Memory Usage: 0 bytes\n",
            " - Epoch Time: 4.935431003570557 seconds\n",
            " - Batch Processing Time: 4.925978183746338 seconds\n",
            " - Throughput: 12156.992967097052 samples/second\n",
            " - Accuracy: 0.9773121002132252\n",
            " - Loss: 0.076912162796134\n",
            "Epoch 4/10\n"
          ]
        }
      ]
    },
    {
      "cell_type": "code",
      "source": [
        "using JSON\n",
        "json_filename = \"CPU_JULIA_epoch_data.json\"\n",
        "\n",
        "stringdata = JSON.json(monitoring_data)\n",
        "\n",
        "# write the file with the stringdata variable information\n",
        "open(json_filename, \"w\") do f\n",
        "        write(f, stringdata)\n",
        "     end"
      ],
      "metadata": {
        "colab": {
          "base_uri": "https://localhost:8080/"
        },
        "id": "AI-R3L5r0gxC",
        "outputId": "c69b0430-3d2b-4eab-9ed4-dcf85432d842"
      },
      "execution_count": null,
      "outputs": [
        {
          "output_type": "execute_result",
          "data": {
            "text/plain": [
              "1107"
            ]
          },
          "metadata": {},
          "execution_count": 6
        }
      ]
    },
    {
      "cell_type": "code",
      "source": [
        "loss(train_X, test_y)\n",
        "accuracy(train_X, test_y)"
      ],
      "metadata": {
        "id": "uR0_Cb6SPUPD",
        "colab": {
          "base_uri": "https://localhost:8080/",
          "height": 159
        },
        "outputId": "5ed1b094-b4b9-48f9-e6a3-c539285f37aa"
      },
      "execution_count": null,
      "outputs": [
        {
          "output_type": "error",
          "ename": "LoadError",
          "evalue": "ignored",
          "traceback": [
            "UndefVarError: loss not defined",
            "",
            "Stacktrace:",
            " [1] top-level scope",
            "   @ In[1]:1"
          ]
        }
      ]
    },
    {
      "cell_type": "code",
      "source": [],
      "metadata": {
        "colab": {
          "base_uri": "https://localhost:8080/",
          "height": 89
        },
        "id": "mchk4ocYV4D3",
        "outputId": "9241af5b-19aa-4257-8981-2070b6e27039"
      },
      "execution_count": null,
      "outputs": [
        {
          "output_type": "error",
          "ename": "LoadError",
          "evalue": "ignored",
          "traceback": [
            "UndefVarError: train_X not defined",
            ""
          ]
        }
      ]
    },
    {
      "cell_type": "code",
      "source": [],
      "metadata": {
        "colab": {
          "base_uri": "https://localhost:8080/"
        },
        "id": "j3DZf9BjWBHn",
        "outputId": "98faea1f-a91a-4b9c-df87-c600a482b1f6"
      },
      "execution_count": null,
      "outputs": [
        {
          "output_type": "execute_result",
          "data": {
            "text/plain": [
              "1-element Vector{StepRange{Int64, Int64}}:\n",
              " 1:64:59969"
            ]
          },
          "metadata": {},
          "execution_count": 20
        }
      ]
    },
    {
      "cell_type": "code",
      "source": [],
      "metadata": {
        "id": "qPr1Fjv_dWKt"
      },
      "execution_count": null,
      "outputs": []
    }
  ]
}